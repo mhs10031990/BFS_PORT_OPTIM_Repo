{
 "cells": [
  {
   "cell_type": "code",
   "execution_count": 1,
   "id": "12918966-bbfe-491a-92c6-32584ef4d376",
   "metadata": {},
   "outputs": [],
   "source": [
    "import json\n",
    "from portfolio import Portfolio\n",
    "from optimizer import PortfolioOptimizer\n",
    "from simulations import MonteCarloSimulation\n",
    "from utils import (\n",
    "    get_simulation_insights,\n",
    "    display_optimal_weights\n",
    ")\n",
    "\n",
    "#Snowpark lib\n",
    "from snowflake.snowpark import Session\n",
    "import pandas as pd\n",
    "from fosforml.model_manager.snowflakesession import get_session\n",
    "my_session = get_session()\n",
    "\n",
    "config = {\n",
    "    \"TICKERS\" : [], \"START_DATE\" : '2020-01-01', \"END_DATE\" : '2023-01-01', \"INITIAL_INVESTMENT\" : 100000,\n",
    "    \"NUM_SIMULATIONS\" : 10000, \"TIME_HORIZON\" : 252, \"RISK_FREE_RATE\" : 0.02, \"WEIGHTS\" : None, \"OPTIMIZE\" : True, \"BALANCED\" : False\n",
    "}"
   ]
  },
  {
   "cell_type": "code",
   "execution_count": 2,
   "id": "efc4cc1f-0c95-4561-83a0-2b277c945a0b",
   "metadata": {},
   "outputs": [],
   "source": [
    "table_name = 'STOCKS_DATA'\n",
    "sf_df = my_session.sql(\"select * from {}\".format(table_name))\n",
    "df = sf_df.to_pandas()"
   ]
  },
  {
   "cell_type": "code",
   "execution_count": 19,
   "id": "f95b46a3-0347-4c15-8477-8d3b5cf2573e",
   "metadata": {},
   "outputs": [],
   "source": [
    "tickers = [\"MTFS\", \"ALPA\", \"TCA\", \"ABC\"]\n",
    "config[\"TICKERS\"] = tickers"
   ]
  },
  {
   "cell_type": "code",
   "execution_count": 20,
   "id": "0584c5c9-f9a4-4cc6-99f7-b3ea634cc585",
   "metadata": {},
   "outputs": [],
   "source": [
    "def load_data(df, tickers: list):\n",
    "    stock_data = {}\n",
    "    min_len = []\n",
    "    for ticker in tickers:\n",
    "        data = df[df[\"STOCK\"] == ticker]\n",
    "        stock_data[ticker] = list(data[\"ADJ_CLOSE\"])\n",
    "        min_len.append(len(data))\n",
    "    last_len = min(min_len)\n",
    "    for ticker in tickers:\n",
    "        stock_data[ticker] = stock_data[ticker][:last_len]\n",
    "    \n",
    "    stock_data = pd.DataFrame(stock_data)\n",
    "    return stock_data\n",
    "\n",
    "# load_data(df, config[\"TICKERS\"]).head()"
   ]
  },
  {
   "cell_type": "code",
   "execution_count": 22,
   "id": "f5506695-b919-46af-94fc-bae46d6de16f",
   "metadata": {},
   "outputs": [
    {
     "name": "stdout",
     "output_type": "stream",
     "text": [
      "\n",
      "Optimal Portfolio Weights to Maximize Sharpe Ratio:\n",
      "  Ticker  Weight\n",
      "0   MTFS  0.3105\n",
      "1   ALPA  0.5265\n",
      "2    TCA  0.1630\n",
      "3    ABC  0.0000\n",
      "[0.3105002  0.52651881 0.16298099 0.        ]\n",
      "**************************\n",
      "Initial Investment : $100,000.00\n",
      "Expected Final Portfolio Value : $128,303.15\n",
      "Median Final Portfolio Value : $125,166.54\n",
      "Standard Deviation of Final Portfolio Value : $29,646.14\n",
      "Value at Risk (VaR 95%) : $13,728.36\n",
      "Conditional Value at Risk (CVaR 95%) : $21,138.27\n",
      "Probability of Loss : 16.60%\n",
      "Sharpe Ratio : 0.9547\n"
     ]
    }
   ],
   "source": [
    "def main(config=config):\n",
    "    \n",
    "    # Extract configuration parameters\n",
    "    tickers = config.get('TICKERS', [\"MTFS\", \"ALPA\", \"OOGGL\"])\n",
    "    start_date = config.get('START_DATE')\n",
    "    end_date = config.get('END_DATE')\n",
    "    initial_investment = config.get('INITIAL_INVESTMENT', 1000)\n",
    "    num_simulations = config.get('NUM_SIMULATIONS', 10000)\n",
    "    time_horizon = config.get('TIME_HORIZON', 252)\n",
    "    risk_free_rate = config.get('RISK_FREE_RATE', 0.0)\n",
    "    custom_weights = config.get('WEIGHTS')\n",
    "    optimization_config = config.get('optimization', {})\n",
    "    optimize = optimization_config.get('OPTIMIZE', True)\n",
    "    balanced = optimization_config.get('BALANCED', False)\n",
    "    # Load data\n",
    "    stock_data = load_data(df, tickers)\n",
    "    \n",
    "    # Create portfolio\n",
    "    portfolio = Portfolio(stock_data)\n",
    "    portfolio.calculate_returns()\n",
    "    \n",
    "    # Annualize returns and covariance\n",
    "    expected_returns = portfolio.returns.mean() * 252\n",
    "    covariance_matrix = portfolio.returns.cov() * 252\n",
    "\n",
    "    # return covariance_matrix, expected_returns\n",
    "    \n",
    "    # Determine weights\n",
    "    if optimize:\n",
    "        optimizer = PortfolioOptimizer(\n",
    "            expected_returns,\n",
    "            covariance_matrix,\n",
    "            risk_free_rate=risk_free_rate\n",
    "        )\n",
    "        if balanced:\n",
    "            optimal_weights = optimizer.minimize_volatility(target_return=expected_returns.mean())\n",
    "            print(\"\\nOptimal Balanced Portfolio Weights:\")\n",
    "        else:\n",
    "            optimal_weights = optimizer.maximize_sharpe_ratio()\n",
    "            print(\"\\nOptimal Portfolio Weights to Maximize Sharpe Ratio:\")\n",
    "        display_optimal_weights(stock_data.columns, optimal_weights)\n",
    "        weights = optimal_weights\n",
    "    elif custom_weights:\n",
    "        weights = custom_weights\n",
    "        print(\"\\nUsing Custom Weights:\")\n",
    "        display_optimal_weights(stock_data.columns, weights)\n",
    "    else:\n",
    "        num_assets = len(expected_returns)\n",
    "        weights = [1.0 / num_assets] * num_assets\n",
    "        print(\"\\nUsing Equal Weights:\")\n",
    "        display_optimal_weights(stock_data.columns, weights)\n",
    "\n",
    "    print(weights)\n",
    "    # Perform Monte Carlo Simulation\n",
    "    simulation = MonteCarloSimulation(portfolio.returns, initial_investment, weights)\n",
    "    all_cumulative_returns, final_portfolio_values = simulation.run_simulation(\n",
    "        num_simulations, time_horizon\n",
    "    )\n",
    "    \n",
    "    # Analyze Results\n",
    "    final_insights = get_simulation_insights(final_portfolio_values, initial_investment)\n",
    "    print(\"**************************\")\n",
    "    for k, v in final_insights.items():\n",
    "        print(k,\":\", v)\n",
    "    # print(final_insights)\n",
    "    return all_cumulative_returns, final_portfolio_values\n",
    "    \n",
    "    # Plot results\n",
    "    # plot_simulation_results(all_cumulative_returns, final_portfolio_values)\n",
    "\n",
    "\n",
    "\n",
    "a, b = main()"
   ]
  },
  {
   "cell_type": "code",
   "execution_count": 39,
   "id": "30d379f2-39c9-46cb-b6d2-a18d9fc4e44a",
   "metadata": {},
   "outputs": [],
   "source": [
    "def original(config):\n",
    "    tickers = config.get('TICKERS', [\"MTFS\", \"ALPA\", \"OOGGL\"])\n",
    "    start_date = config.get('START_DATE')\n",
    "    end_date = config.get('END_DATE')\n",
    "    initial_investment = config.get('INITIAL_INVESTMENT', 1000)\n",
    "    num_simulations = config.get('NUM_SIMULATIONS', 10000)\n",
    "    time_horizon = config.get('TIME_HORIZON', 252)\n",
    "    risk_free_rate = config.get('RISK_FREE_RATE', 0.0)\n",
    "    custom_weights = config.get('WEIGHTS')\n",
    "    optimization_config = config.get('optimization', {})\n",
    "    optimize = optimization_config.get('OPTIMIZE', True)\n",
    "    balanced = optimization_config.get('BALANCED', False)\n",
    "    # Load data\n",
    "    stock_data = load_data(df, tickers)\n",
    "\n",
    "# Create portfolio\n",
    "    portfolio = Portfolio(stock_data)\n",
    "    portfolio.calculate_returns()\n",
    "    weights = [0.25, 0.25, 0.25, 0.25]\n",
    "    simulation = MonteCarloSimulation(portfolio.returns, initial_investment, weights)\n",
    "    all_cumulative_returns, final_portfolio_values = simulation.run_simulation(\n",
    "        num_simulations, time_horizon\n",
    "    )\n",
    "    \n",
    "    # Analyze Results\n",
    "    final_insights = get_simulation_insights(final_portfolio_values, initial_investment)\n",
    "\n",
    "    return final_insights\n",
    "# print(\"**************************\")\n",
    "# for k, v in final_insights.items():\n",
    "    print(k,\":\", v)\n",
    "# print(final_insights)"
   ]
  },
  {
   "cell_type": "code",
   "execution_count": 27,
   "id": "6f08893a-58e3-4268-9c0e-7007066d3fc6",
   "metadata": {},
   "outputs": [],
   "source": [
    "table_name = 'MEMBER_MASTER'\n",
    "users_df = my_session.sql(\"select * from {}\".format(table_name))\n",
    "users = users_df.to_pandas()"
   ]
  },
  {
   "cell_type": "code",
   "execution_count": 31,
   "id": "e0011260-70c2-4c71-82e7-a2c7458cfab0",
   "metadata": {},
   "outputs": [],
   "source": [
    "stocks = list(df[\"STOCK\"].unique())\n",
    "\n",
    "import random\n",
    "portfolio_stocks = [2,3,3,4,4,5,5,6,6,7,8,9]\n",
    "\n",
    "portfolio = [random.sample(stocks, random.choice(portfolio_stocks))for i in range(users.shape[0])]"
   ]
  },
  {
   "cell_type": "code",
   "execution_count": 34,
   "id": "bc43d2c0-9ca6-4f02-8842-b06c4ee63a17",
   "metadata": {},
   "outputs": [],
   "source": [
    "users[\"PORTFOLIO\"] = portfolio"
   ]
  },
  {
   "cell_type": "code",
   "execution_count": 37,
   "id": "f6ae2a42-97de-44df-9d50-4a47da0bf757",
   "metadata": {},
   "outputs": [],
   "source": [
    "users[\"INTITIAL_INVVESTMENT\"] = users[\"MEMBER_ID\"].apply(lambda x: random.choice([1000, 10000, 5000, 50000, 1000000, 80000, 90000, 11000, 45000,\n",
    "                                                                                  55000, 1000000, 40000, 88000, 97000, 49000, 69000]))"
   ]
  },
  {
   "cell_type": "code",
   "execution_count": 41,
   "id": "956d3168-b56e-4960-9f0e-f765380843d0",
   "metadata": {},
   "outputs": [
    {
     "name": "stderr",
     "output_type": "stream",
     "text": [
      "  0%|          | 2/242000 [00:01<54:21:17,  1.24it/s]"
     ]
    },
    {
     "name": "stdout",
     "output_type": "stream",
     "text": [
      "Sharpe Ratio : 0.8180\n"
     ]
    },
    {
     "name": "stderr",
     "output_type": "stream",
     "text": [
      "  0%|          | 3/242000 [00:03<77:11:17,  1.15s/it]"
     ]
    },
    {
     "name": "stdout",
     "output_type": "stream",
     "text": [
      "Sharpe Ratio : 0.8180\n"
     ]
    },
    {
     "name": "stderr",
     "output_type": "stream",
     "text": [
      "  0%|          | 4/242000 [00:04<86:32:38,  1.29s/it]"
     ]
    },
    {
     "name": "stdout",
     "output_type": "stream",
     "text": [
      "Sharpe Ratio : 0.8180\n"
     ]
    },
    {
     "name": "stderr",
     "output_type": "stream",
     "text": [
      "  0%|          | 5/242000 [00:06<93:29:22,  1.39s/it]"
     ]
    },
    {
     "name": "stdout",
     "output_type": "stream",
     "text": [
      "Sharpe Ratio : 0.8180\n"
     ]
    },
    {
     "name": "stderr",
     "output_type": "stream",
     "text": [
      "  0%|          | 5/242000 [00:07<96:40:45,  1.44s/it]\n"
     ]
    },
    {
     "ename": "KeyboardInterrupt",
     "evalue": "",
     "output_type": "error",
     "traceback": [
      "\u001b[0;31m---------------------------------------------------------------------------\u001b[0m",
      "\u001b[0;31mKeyboardInterrupt\u001b[0m                         Traceback (most recent call last)",
      "Cell \u001b[0;32mIn[41], line 9\u001b[0m\n\u001b[1;32m      6\u001b[0m     result \u001b[38;5;241m=\u001b[39m original(config)\n\u001b[1;32m      7\u001b[0m     \u001b[38;5;28;01mreturn\u001b[39;00m result\n\u001b[0;32m----> 9\u001b[0m users[\u001b[38;5;124m\"\u001b[39m\u001b[38;5;124mORG_INVST\u001b[39m\u001b[38;5;124m\"\u001b[39m] \u001b[38;5;241m=\u001b[39m \u001b[43musers\u001b[49m\u001b[43m[\u001b[49m\u001b[43m[\u001b[49m\u001b[38;5;124;43m\"\u001b[39;49m\u001b[38;5;124;43mPORTFOLIO\u001b[39;49m\u001b[38;5;124;43m\"\u001b[39;49m\u001b[43m,\u001b[49m\u001b[38;5;124;43m\"\u001b[39;49m\u001b[38;5;124;43mINTITIAL_INVVESTMENT\u001b[39;49m\u001b[38;5;124;43m\"\u001b[39;49m\u001b[43m]\u001b[49m\u001b[43m]\u001b[49m\u001b[38;5;241;43m.\u001b[39;49m\u001b[43mprogress_apply\u001b[49m\u001b[43m(\u001b[49m\u001b[38;5;28;43;01mlambda\u001b[39;49;00m\u001b[43m \u001b[49m\u001b[43mx\u001b[49m\u001b[43m:\u001b[49m\u001b[43m \u001b[49m\u001b[43mmodify_config\u001b[49m\u001b[43m(\u001b[49m\u001b[43mx\u001b[49m\u001b[43m[\u001b[49m\u001b[38;5;241;43m0\u001b[39;49m\u001b[43m]\u001b[49m\u001b[43m,\u001b[49m\u001b[43m \u001b[49m\u001b[43mx\u001b[49m\u001b[43m[\u001b[49m\u001b[38;5;241;43m1\u001b[39;49m\u001b[43m]\u001b[49m\u001b[43m)\u001b[49m\u001b[43m,\u001b[49m\u001b[43m \u001b[49m\u001b[43maxis\u001b[49m\u001b[38;5;241;43m=\u001b[39;49m\u001b[38;5;241;43m1\u001b[39;49m\u001b[43m)\u001b[49m\n",
      "File \u001b[0;32m/opt/conda/lib/python3.9/site-packages/tqdm/std.py:917\u001b[0m, in \u001b[0;36mtqdm.pandas.<locals>.inner_generator.<locals>.inner\u001b[0;34m(df, func, *args, **kwargs)\u001b[0m\n\u001b[1;32m    914\u001b[0m \u001b[38;5;66;03m# Apply the provided function (in **kwargs)\u001b[39;00m\n\u001b[1;32m    915\u001b[0m \u001b[38;5;66;03m# on the df using our wrapper (which provides bar updating)\u001b[39;00m\n\u001b[1;32m    916\u001b[0m \u001b[38;5;28;01mtry\u001b[39;00m:\n\u001b[0;32m--> 917\u001b[0m     \u001b[38;5;28;01mreturn\u001b[39;00m \u001b[38;5;28;43mgetattr\u001b[39;49m\u001b[43m(\u001b[49m\u001b[43mdf\u001b[49m\u001b[43m,\u001b[49m\u001b[43m \u001b[49m\u001b[43mdf_function\u001b[49m\u001b[43m)\u001b[49m\u001b[43m(\u001b[49m\u001b[43mwrapper\u001b[49m\u001b[43m,\u001b[49m\u001b[43m \u001b[49m\u001b[38;5;241;43m*\u001b[39;49m\u001b[38;5;241;43m*\u001b[39;49m\u001b[43mkwargs\u001b[49m\u001b[43m)\u001b[49m\n\u001b[1;32m    918\u001b[0m \u001b[38;5;28;01mfinally\u001b[39;00m:\n\u001b[1;32m    919\u001b[0m     t\u001b[38;5;241m.\u001b[39mclose()\n",
      "File \u001b[0;32m/opt/conda/lib/python3.9/site-packages/pandas/core/frame.py:10347\u001b[0m, in \u001b[0;36mDataFrame.apply\u001b[0;34m(self, func, axis, raw, result_type, args, by_row, engine, engine_kwargs, **kwargs)\u001b[0m\n\u001b[1;32m  10333\u001b[0m \u001b[38;5;28;01mfrom\u001b[39;00m \u001b[38;5;21;01mpandas\u001b[39;00m\u001b[38;5;21;01m.\u001b[39;00m\u001b[38;5;21;01mcore\u001b[39;00m\u001b[38;5;21;01m.\u001b[39;00m\u001b[38;5;21;01mapply\u001b[39;00m \u001b[38;5;28;01mimport\u001b[39;00m frame_apply\n\u001b[1;32m  10335\u001b[0m op \u001b[38;5;241m=\u001b[39m frame_apply(\n\u001b[1;32m  10336\u001b[0m     \u001b[38;5;28mself\u001b[39m,\n\u001b[1;32m  10337\u001b[0m     func\u001b[38;5;241m=\u001b[39mfunc,\n\u001b[0;32m   (...)\u001b[0m\n\u001b[1;32m  10345\u001b[0m     kwargs\u001b[38;5;241m=\u001b[39mkwargs,\n\u001b[1;32m  10346\u001b[0m )\n\u001b[0;32m> 10347\u001b[0m \u001b[38;5;28;01mreturn\u001b[39;00m \u001b[43mop\u001b[49m\u001b[38;5;241;43m.\u001b[39;49m\u001b[43mapply\u001b[49m\u001b[43m(\u001b[49m\u001b[43m)\u001b[49m\u001b[38;5;241m.\u001b[39m__finalize__(\u001b[38;5;28mself\u001b[39m, method\u001b[38;5;241m=\u001b[39m\u001b[38;5;124m\"\u001b[39m\u001b[38;5;124mapply\u001b[39m\u001b[38;5;124m\"\u001b[39m)\n",
      "File \u001b[0;32m/opt/conda/lib/python3.9/site-packages/pandas/core/apply.py:916\u001b[0m, in \u001b[0;36mFrameApply.apply\u001b[0;34m(self)\u001b[0m\n\u001b[1;32m    913\u001b[0m \u001b[38;5;28;01melif\u001b[39;00m \u001b[38;5;28mself\u001b[39m\u001b[38;5;241m.\u001b[39mraw:\n\u001b[1;32m    914\u001b[0m     \u001b[38;5;28;01mreturn\u001b[39;00m \u001b[38;5;28mself\u001b[39m\u001b[38;5;241m.\u001b[39mapply_raw(engine\u001b[38;5;241m=\u001b[39m\u001b[38;5;28mself\u001b[39m\u001b[38;5;241m.\u001b[39mengine, engine_kwargs\u001b[38;5;241m=\u001b[39m\u001b[38;5;28mself\u001b[39m\u001b[38;5;241m.\u001b[39mengine_kwargs)\n\u001b[0;32m--> 916\u001b[0m \u001b[38;5;28;01mreturn\u001b[39;00m \u001b[38;5;28;43mself\u001b[39;49m\u001b[38;5;241;43m.\u001b[39;49m\u001b[43mapply_standard\u001b[49m\u001b[43m(\u001b[49m\u001b[43m)\u001b[49m\n",
      "File \u001b[0;32m/opt/conda/lib/python3.9/site-packages/pandas/core/apply.py:1063\u001b[0m, in \u001b[0;36mFrameApply.apply_standard\u001b[0;34m(self)\u001b[0m\n\u001b[1;32m   1061\u001b[0m \u001b[38;5;28;01mdef\u001b[39;00m \u001b[38;5;21mapply_standard\u001b[39m(\u001b[38;5;28mself\u001b[39m):\n\u001b[1;32m   1062\u001b[0m     \u001b[38;5;28;01mif\u001b[39;00m \u001b[38;5;28mself\u001b[39m\u001b[38;5;241m.\u001b[39mengine \u001b[38;5;241m==\u001b[39m \u001b[38;5;124m\"\u001b[39m\u001b[38;5;124mpython\u001b[39m\u001b[38;5;124m\"\u001b[39m:\n\u001b[0;32m-> 1063\u001b[0m         results, res_index \u001b[38;5;241m=\u001b[39m \u001b[38;5;28;43mself\u001b[39;49m\u001b[38;5;241;43m.\u001b[39;49m\u001b[43mapply_series_generator\u001b[49m\u001b[43m(\u001b[49m\u001b[43m)\u001b[49m\n\u001b[1;32m   1064\u001b[0m     \u001b[38;5;28;01melse\u001b[39;00m:\n\u001b[1;32m   1065\u001b[0m         results, res_index \u001b[38;5;241m=\u001b[39m \u001b[38;5;28mself\u001b[39m\u001b[38;5;241m.\u001b[39mapply_series_numba()\n",
      "File \u001b[0;32m/opt/conda/lib/python3.9/site-packages/pandas/core/apply.py:1081\u001b[0m, in \u001b[0;36mFrameApply.apply_series_generator\u001b[0;34m(self)\u001b[0m\n\u001b[1;32m   1078\u001b[0m \u001b[38;5;28;01mwith\u001b[39;00m option_context(\u001b[38;5;124m\"\u001b[39m\u001b[38;5;124mmode.chained_assignment\u001b[39m\u001b[38;5;124m\"\u001b[39m, \u001b[38;5;28;01mNone\u001b[39;00m):\n\u001b[1;32m   1079\u001b[0m     \u001b[38;5;28;01mfor\u001b[39;00m i, v \u001b[38;5;129;01min\u001b[39;00m \u001b[38;5;28menumerate\u001b[39m(series_gen):\n\u001b[1;32m   1080\u001b[0m         \u001b[38;5;66;03m# ignore SettingWithCopy here in case the user mutates\u001b[39;00m\n\u001b[0;32m-> 1081\u001b[0m         results[i] \u001b[38;5;241m=\u001b[39m \u001b[38;5;28;43mself\u001b[39;49m\u001b[38;5;241;43m.\u001b[39;49m\u001b[43mfunc\u001b[49m\u001b[43m(\u001b[49m\u001b[43mv\u001b[49m\u001b[43m,\u001b[49m\u001b[43m \u001b[49m\u001b[38;5;241;43m*\u001b[39;49m\u001b[38;5;28;43mself\u001b[39;49m\u001b[38;5;241;43m.\u001b[39;49m\u001b[43margs\u001b[49m\u001b[43m,\u001b[49m\u001b[43m \u001b[49m\u001b[38;5;241;43m*\u001b[39;49m\u001b[38;5;241;43m*\u001b[39;49m\u001b[38;5;28;43mself\u001b[39;49m\u001b[38;5;241;43m.\u001b[39;49m\u001b[43mkwargs\u001b[49m\u001b[43m)\u001b[49m\n\u001b[1;32m   1082\u001b[0m         \u001b[38;5;28;01mif\u001b[39;00m \u001b[38;5;28misinstance\u001b[39m(results[i], ABCSeries):\n\u001b[1;32m   1083\u001b[0m             \u001b[38;5;66;03m# If we have a view on v, we need to make a copy because\u001b[39;00m\n\u001b[1;32m   1084\u001b[0m             \u001b[38;5;66;03m#  series_generator will swap out the underlying data\u001b[39;00m\n\u001b[1;32m   1085\u001b[0m             results[i] \u001b[38;5;241m=\u001b[39m results[i]\u001b[38;5;241m.\u001b[39mcopy(deep\u001b[38;5;241m=\u001b[39m\u001b[38;5;28;01mFalse\u001b[39;00m)\n",
      "File \u001b[0;32m/opt/conda/lib/python3.9/site-packages/tqdm/std.py:912\u001b[0m, in \u001b[0;36mtqdm.pandas.<locals>.inner_generator.<locals>.inner.<locals>.wrapper\u001b[0;34m(*args, **kwargs)\u001b[0m\n\u001b[1;32m    906\u001b[0m \u001b[38;5;28;01mdef\u001b[39;00m \u001b[38;5;21mwrapper\u001b[39m(\u001b[38;5;241m*\u001b[39margs, \u001b[38;5;241m*\u001b[39m\u001b[38;5;241m*\u001b[39mkwargs):\n\u001b[1;32m    907\u001b[0m     \u001b[38;5;66;03m# update tbar correctly\u001b[39;00m\n\u001b[1;32m    908\u001b[0m     \u001b[38;5;66;03m# it seems `pandas apply` calls `func` twice\u001b[39;00m\n\u001b[1;32m    909\u001b[0m     \u001b[38;5;66;03m# on the first column/row to decide whether it can\u001b[39;00m\n\u001b[1;32m    910\u001b[0m     \u001b[38;5;66;03m# take a fast or slow code path; so stop when t.total==t.n\u001b[39;00m\n\u001b[1;32m    911\u001b[0m     t\u001b[38;5;241m.\u001b[39mupdate(n\u001b[38;5;241m=\u001b[39m\u001b[38;5;241m1\u001b[39m \u001b[38;5;28;01mif\u001b[39;00m \u001b[38;5;129;01mnot\u001b[39;00m t\u001b[38;5;241m.\u001b[39mtotal \u001b[38;5;129;01mor\u001b[39;00m t\u001b[38;5;241m.\u001b[39mn \u001b[38;5;241m<\u001b[39m t\u001b[38;5;241m.\u001b[39mtotal \u001b[38;5;28;01melse\u001b[39;00m \u001b[38;5;241m0\u001b[39m)\n\u001b[0;32m--> 912\u001b[0m     \u001b[38;5;28;01mreturn\u001b[39;00m \u001b[43mfunc\u001b[49m\u001b[43m(\u001b[49m\u001b[38;5;241;43m*\u001b[39;49m\u001b[43margs\u001b[49m\u001b[43m,\u001b[49m\u001b[43m \u001b[49m\u001b[38;5;241;43m*\u001b[39;49m\u001b[38;5;241;43m*\u001b[39;49m\u001b[43mkwargs\u001b[49m\u001b[43m)\u001b[49m\n",
      "Cell \u001b[0;32mIn[41], line 9\u001b[0m, in \u001b[0;36m<lambda>\u001b[0;34m(x)\u001b[0m\n\u001b[1;32m      6\u001b[0m     result \u001b[38;5;241m=\u001b[39m original(config)\n\u001b[1;32m      7\u001b[0m     \u001b[38;5;28;01mreturn\u001b[39;00m result\n\u001b[0;32m----> 9\u001b[0m users[\u001b[38;5;124m\"\u001b[39m\u001b[38;5;124mORG_INVST\u001b[39m\u001b[38;5;124m\"\u001b[39m] \u001b[38;5;241m=\u001b[39m users[[\u001b[38;5;124m\"\u001b[39m\u001b[38;5;124mPORTFOLIO\u001b[39m\u001b[38;5;124m\"\u001b[39m,\u001b[38;5;124m\"\u001b[39m\u001b[38;5;124mINTITIAL_INVVESTMENT\u001b[39m\u001b[38;5;124m\"\u001b[39m]]\u001b[38;5;241m.\u001b[39mprogress_apply(\u001b[38;5;28;01mlambda\u001b[39;00m x: \u001b[43mmodify_config\u001b[49m\u001b[43m(\u001b[49m\u001b[43mx\u001b[49m\u001b[43m[\u001b[49m\u001b[38;5;241;43m0\u001b[39;49m\u001b[43m]\u001b[49m\u001b[43m,\u001b[49m\u001b[43m \u001b[49m\u001b[43mx\u001b[49m\u001b[43m[\u001b[49m\u001b[38;5;241;43m1\u001b[39;49m\u001b[43m]\u001b[49m\u001b[43m)\u001b[49m, axis\u001b[38;5;241m=\u001b[39m\u001b[38;5;241m1\u001b[39m)\n",
      "Cell \u001b[0;32mIn[41], line 6\u001b[0m, in \u001b[0;36mmodify_config\u001b[0;34m(tickers, initial)\u001b[0m\n\u001b[1;32m      4\u001b[0m config[\u001b[38;5;124m\"\u001b[39m\u001b[38;5;124mTICKER\u001b[39m\u001b[38;5;124m\"\u001b[39m] \u001b[38;5;241m=\u001b[39m tickers\n\u001b[1;32m      5\u001b[0m config[\u001b[38;5;124m\"\u001b[39m\u001b[38;5;124mINITIAL_INVESTMENT\u001b[39m\u001b[38;5;124m\"\u001b[39m] \u001b[38;5;241m=\u001b[39m initial\n\u001b[0;32m----> 6\u001b[0m result \u001b[38;5;241m=\u001b[39m \u001b[43moriginal\u001b[49m\u001b[43m(\u001b[49m\u001b[43mconfig\u001b[49m\u001b[43m)\u001b[49m\n\u001b[1;32m      7\u001b[0m \u001b[38;5;28;01mreturn\u001b[39;00m result\n",
      "Cell \u001b[0;32mIn[39], line 21\u001b[0m, in \u001b[0;36moriginal\u001b[0;34m(config)\u001b[0m\n\u001b[1;32m     19\u001b[0m weights \u001b[38;5;241m=\u001b[39m [\u001b[38;5;241m0.25\u001b[39m, \u001b[38;5;241m0.25\u001b[39m, \u001b[38;5;241m0.25\u001b[39m, \u001b[38;5;241m0.25\u001b[39m]\n\u001b[1;32m     20\u001b[0m simulation \u001b[38;5;241m=\u001b[39m MonteCarloSimulation(portfolio\u001b[38;5;241m.\u001b[39mreturns, initial_investment, weights)\n\u001b[0;32m---> 21\u001b[0m all_cumulative_returns, final_portfolio_values \u001b[38;5;241m=\u001b[39m \u001b[43msimulation\u001b[49m\u001b[38;5;241;43m.\u001b[39;49m\u001b[43mrun_simulation\u001b[49m\u001b[43m(\u001b[49m\n\u001b[1;32m     22\u001b[0m \u001b[43m    \u001b[49m\u001b[43mnum_simulations\u001b[49m\u001b[43m,\u001b[49m\u001b[43m \u001b[49m\u001b[43mtime_horizon\u001b[49m\n\u001b[1;32m     23\u001b[0m \u001b[43m\u001b[49m\u001b[43m)\u001b[49m\n\u001b[1;32m     25\u001b[0m \u001b[38;5;66;03m# Analyze Results\u001b[39;00m\n\u001b[1;32m     26\u001b[0m final_insights \u001b[38;5;241m=\u001b[39m get_simulation_insights(final_portfolio_values, initial_investment)\n",
      "File \u001b[0;32m/notebooks/notebooks/simulations.py:20\u001b[0m, in \u001b[0;36mMonteCarloSimulation.run_simulation\u001b[0;34m(self, num_simulations, time_horizon)\u001b[0m\n\u001b[1;32m     17\u001b[0m final_portfolio_values \u001b[38;5;241m=\u001b[39m np\u001b[38;5;241m.\u001b[39mzeros(num_simulations)\n\u001b[1;32m     19\u001b[0m \u001b[38;5;28;01mfor\u001b[39;00m sim \u001b[38;5;129;01min\u001b[39;00m \u001b[38;5;28mrange\u001b[39m(num_simulations):\n\u001b[0;32m---> 20\u001b[0m     simulated_returns \u001b[38;5;241m=\u001b[39m \u001b[43mnp\u001b[49m\u001b[38;5;241;43m.\u001b[39;49m\u001b[43mrandom\u001b[49m\u001b[38;5;241;43m.\u001b[39;49m\u001b[43mmultivariate_normal\u001b[49m\u001b[43m(\u001b[49m\n\u001b[1;32m     21\u001b[0m \u001b[43m        \u001b[49m\u001b[38;5;28;43mself\u001b[39;49m\u001b[38;5;241;43m.\u001b[39;49m\u001b[43mmean\u001b[49m\u001b[43m,\u001b[49m\u001b[43m \u001b[49m\u001b[38;5;28;43mself\u001b[39;49m\u001b[38;5;241;43m.\u001b[39;49m\u001b[43mcovariance\u001b[49m\u001b[43m,\u001b[49m\u001b[43m \u001b[49m\u001b[43mtime_horizon\u001b[49m\n\u001b[1;32m     22\u001b[0m \u001b[43m    \u001b[49m\u001b[43m)\u001b[49m\n\u001b[1;32m     23\u001b[0m     cumulative_returns \u001b[38;5;241m=\u001b[39m np\u001b[38;5;241m.\u001b[39mcumprod(\u001b[38;5;241m1\u001b[39m \u001b[38;5;241m+\u001b[39m simulated_returns, axis\u001b[38;5;241m=\u001b[39m\u001b[38;5;241m0\u001b[39m)\n\u001b[1;32m     24\u001b[0m     portfolio_cumulative_returns \u001b[38;5;241m=\u001b[39m cumulative_returns\u001b[38;5;241m.\u001b[39mdot(\u001b[38;5;28mself\u001b[39m\u001b[38;5;241m.\u001b[39mweights)\n",
      "File \u001b[0;32mnumpy/random/mtrand.pyx:4243\u001b[0m, in \u001b[0;36mnumpy.random.mtrand.RandomState.multivariate_normal\u001b[0;34m()\u001b[0m\n",
      "File \u001b[0;32m/opt/conda/lib/python3.9/site-packages/numpy/core/numeric.py:2241\u001b[0m, in \u001b[0;36mallclose\u001b[0;34m(a, b, rtol, atol, equal_nan)\u001b[0m\n\u001b[1;32m   2170\u001b[0m \u001b[38;5;129m@array_function_dispatch\u001b[39m(_allclose_dispatcher)\n\u001b[1;32m   2171\u001b[0m \u001b[38;5;28;01mdef\u001b[39;00m \u001b[38;5;21mallclose\u001b[39m(a, b, rtol\u001b[38;5;241m=\u001b[39m\u001b[38;5;241m1.e-5\u001b[39m, atol\u001b[38;5;241m=\u001b[39m\u001b[38;5;241m1.e-8\u001b[39m, equal_nan\u001b[38;5;241m=\u001b[39m\u001b[38;5;28;01mFalse\u001b[39;00m):\n\u001b[1;32m   2172\u001b[0m \u001b[38;5;250m    \u001b[39m\u001b[38;5;124;03m\"\"\"\u001b[39;00m\n\u001b[1;32m   2173\u001b[0m \u001b[38;5;124;03m    Returns True if two arrays are element-wise equal within a tolerance.\u001b[39;00m\n\u001b[1;32m   2174\u001b[0m \n\u001b[0;32m   (...)\u001b[0m\n\u001b[1;32m   2239\u001b[0m \n\u001b[1;32m   2240\u001b[0m \u001b[38;5;124;03m    \"\"\"\u001b[39;00m\n\u001b[0;32m-> 2241\u001b[0m     res \u001b[38;5;241m=\u001b[39m \u001b[38;5;28mall\u001b[39m(\u001b[43misclose\u001b[49m\u001b[43m(\u001b[49m\u001b[43ma\u001b[49m\u001b[43m,\u001b[49m\u001b[43m \u001b[49m\u001b[43mb\u001b[49m\u001b[43m,\u001b[49m\u001b[43m \u001b[49m\u001b[43mrtol\u001b[49m\u001b[38;5;241;43m=\u001b[39;49m\u001b[43mrtol\u001b[49m\u001b[43m,\u001b[49m\u001b[43m \u001b[49m\u001b[43matol\u001b[49m\u001b[38;5;241;43m=\u001b[39;49m\u001b[43matol\u001b[49m\u001b[43m,\u001b[49m\u001b[43m \u001b[49m\u001b[43mequal_nan\u001b[49m\u001b[38;5;241;43m=\u001b[39;49m\u001b[43mequal_nan\u001b[49m\u001b[43m)\u001b[49m)\n\u001b[1;32m   2242\u001b[0m     \u001b[38;5;28;01mreturn\u001b[39;00m \u001b[38;5;28mbool\u001b[39m(res)\n",
      "File \u001b[0;32m/opt/conda/lib/python3.9/site-packages/numpy/core/numeric.py:2350\u001b[0m, in \u001b[0;36misclose\u001b[0;34m(a, b, rtol, atol, equal_nan)\u001b[0m\n\u001b[1;32m   2348\u001b[0m xfin \u001b[38;5;241m=\u001b[39m isfinite(x)\n\u001b[1;32m   2349\u001b[0m yfin \u001b[38;5;241m=\u001b[39m isfinite(y)\n\u001b[0;32m-> 2350\u001b[0m \u001b[38;5;28;01mif\u001b[39;00m \u001b[38;5;28mall\u001b[39m(xfin) \u001b[38;5;129;01mand\u001b[39;00m \u001b[38;5;28;43mall\u001b[39;49m\u001b[43m(\u001b[49m\u001b[43myfin\u001b[49m\u001b[43m)\u001b[49m:\n\u001b[1;32m   2351\u001b[0m     \u001b[38;5;28;01mreturn\u001b[39;00m within_tol(x, y, atol, rtol)\n\u001b[1;32m   2352\u001b[0m \u001b[38;5;28;01melse\u001b[39;00m:\n",
      "File \u001b[0;32m/opt/conda/lib/python3.9/site-packages/numpy/core/fromnumeric.py:2504\u001b[0m, in \u001b[0;36mall\u001b[0;34m(a, axis, out, keepdims, where)\u001b[0m\n\u001b[1;32m   2421\u001b[0m \u001b[38;5;129m@array_function_dispatch\u001b[39m(_all_dispatcher)\n\u001b[1;32m   2422\u001b[0m \u001b[38;5;28;01mdef\u001b[39;00m \u001b[38;5;21mall\u001b[39m(a, axis\u001b[38;5;241m=\u001b[39m\u001b[38;5;28;01mNone\u001b[39;00m, out\u001b[38;5;241m=\u001b[39m\u001b[38;5;28;01mNone\u001b[39;00m, keepdims\u001b[38;5;241m=\u001b[39mnp\u001b[38;5;241m.\u001b[39m_NoValue, \u001b[38;5;241m*\u001b[39m, where\u001b[38;5;241m=\u001b[39mnp\u001b[38;5;241m.\u001b[39m_NoValue):\n\u001b[1;32m   2423\u001b[0m \u001b[38;5;250m    \u001b[39m\u001b[38;5;124;03m\"\"\"\u001b[39;00m\n\u001b[1;32m   2424\u001b[0m \u001b[38;5;124;03m    Test whether all array elements along a given axis evaluate to True.\u001b[39;00m\n\u001b[1;32m   2425\u001b[0m \n\u001b[0;32m   (...)\u001b[0m\n\u001b[1;32m   2502\u001b[0m \n\u001b[1;32m   2503\u001b[0m \u001b[38;5;124;03m    \"\"\"\u001b[39;00m\n\u001b[0;32m-> 2504\u001b[0m     \u001b[38;5;28;01mreturn\u001b[39;00m \u001b[43m_wrapreduction\u001b[49m\u001b[43m(\u001b[49m\u001b[43ma\u001b[49m\u001b[43m,\u001b[49m\u001b[43m \u001b[49m\u001b[43mnp\u001b[49m\u001b[38;5;241;43m.\u001b[39;49m\u001b[43mlogical_and\u001b[49m\u001b[43m,\u001b[49m\u001b[43m \u001b[49m\u001b[38;5;124;43m'\u001b[39;49m\u001b[38;5;124;43mall\u001b[39;49m\u001b[38;5;124;43m'\u001b[39;49m\u001b[43m,\u001b[49m\u001b[43m \u001b[49m\u001b[43maxis\u001b[49m\u001b[43m,\u001b[49m\u001b[43m \u001b[49m\u001b[38;5;28;43;01mNone\u001b[39;49;00m\u001b[43m,\u001b[49m\u001b[43m \u001b[49m\u001b[43mout\u001b[49m\u001b[43m,\u001b[49m\n\u001b[1;32m   2505\u001b[0m \u001b[43m                          \u001b[49m\u001b[43mkeepdims\u001b[49m\u001b[38;5;241;43m=\u001b[39;49m\u001b[43mkeepdims\u001b[49m\u001b[43m,\u001b[49m\u001b[43m \u001b[49m\u001b[43mwhere\u001b[49m\u001b[38;5;241;43m=\u001b[39;49m\u001b[43mwhere\u001b[49m\u001b[43m)\u001b[49m\n",
      "File \u001b[0;32m/opt/conda/lib/python3.9/site-packages/numpy/core/fromnumeric.py:88\u001b[0m, in \u001b[0;36m_wrapreduction\u001b[0;34m(obj, ufunc, method, axis, dtype, out, **kwargs)\u001b[0m\n\u001b[1;32m     85\u001b[0m         \u001b[38;5;28;01melse\u001b[39;00m:\n\u001b[1;32m     86\u001b[0m             \u001b[38;5;28;01mreturn\u001b[39;00m reduction(axis\u001b[38;5;241m=\u001b[39maxis, out\u001b[38;5;241m=\u001b[39mout, \u001b[38;5;241m*\u001b[39m\u001b[38;5;241m*\u001b[39mpasskwargs)\n\u001b[0;32m---> 88\u001b[0m \u001b[38;5;28;01mreturn\u001b[39;00m \u001b[43mufunc\u001b[49m\u001b[38;5;241;43m.\u001b[39;49m\u001b[43mreduce\u001b[49m\u001b[43m(\u001b[49m\u001b[43mobj\u001b[49m\u001b[43m,\u001b[49m\u001b[43m \u001b[49m\u001b[43maxis\u001b[49m\u001b[43m,\u001b[49m\u001b[43m \u001b[49m\u001b[43mdtype\u001b[49m\u001b[43m,\u001b[49m\u001b[43m \u001b[49m\u001b[43mout\u001b[49m\u001b[43m,\u001b[49m\u001b[43m \u001b[49m\u001b[38;5;241;43m*\u001b[39;49m\u001b[38;5;241;43m*\u001b[39;49m\u001b[43mpasskwargs\u001b[49m\u001b[43m)\u001b[49m\n",
      "\u001b[0;31mKeyboardInterrupt\u001b[0m: "
     ]
    }
   ],
   "source": [
    "from tqdm import tqdm\n",
    "tqdm.pandas()\n",
    "def modify_config(tickers, initial):\n",
    "    config[\"TICKER\"] = tickers\n",
    "    config[\"INITIAL_INVESTMENT\"] = initial\n",
    "    result = original(config)\n",
    "    return result\n",
    "\n",
    "users[\"ORG_INVST\"] = users[[\"PORTFOLIO\",\"INTITIAL_INVVESTMENT\"]].progress_apply(lambda x: modify_config(x[0], x[1]), axis=1)"
   ]
  }
 ],
 "metadata": {
  "kernelspec": {
   "display_name": "Python 3 (ipykernel)",
   "language": "python",
   "name": "python3"
  },
  "language_info": {
   "codemirror_mode": {
    "name": "ipython",
    "version": 3
   },
   "file_extension": ".py",
   "mimetype": "text/x-python",
   "name": "python",
   "nbconvert_exporter": "python",
   "pygments_lexer": "ipython3",
   "version": "3.9.19"
  }
 },
 "nbformat": 4,
 "nbformat_minor": 5
}
