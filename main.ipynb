{
 "cells": [
  {
   "cell_type": "code",
   "execution_count": 48,
   "id": "12918966-bbfe-491a-92c6-32584ef4d376",
   "metadata": {},
   "outputs": [],
   "source": [
    "import json\n",
    "from portfolio import Portfolio\n",
    "from optimizer import PortfolioOptimizer\n",
    "from simulations import MonteCarloSimulation\n",
    "from utils import (\n",
    "    get_simulation_insights,\n",
    "    display_optimal_weights\n",
    ")\n",
    "\n",
    "#Snowpark lib\n",
    "from snowflake.snowpark import Session\n",
    "import pandas as pd\n",
    "from fosforml.model_manager.snowflakesession import get_session\n",
    "my_session = get_session()\n",
    "\n",
    "config = {\n",
    "    \"TICKERS\" : [], \"START_DATE\" : '2020-01-01', \"END_DATE\" : '2023-01-01', \"INITIAL_INVESTMENT\" : 100000,\n",
    "    \"NUM_SIMULATIONS\" : 10000, \"TIME_HORIZON\" : 252, \"RISK_FREE_RATE\" : 0.02, \"WEIGHTS\" : None, \"OPTIMIZE\" : True, \"BALANCED\" : False\n",
    "}"
   ]
  },
  {
   "cell_type": "code",
   "execution_count": 49,
   "id": "efc4cc1f-0c95-4561-83a0-2b277c945a0b",
   "metadata": {},
   "outputs": [],
   "source": [
    "table_name = 'STOCKS_DATA'\n",
    "sf_df = my_session.sql(\"select * from {}\".format(table_name))\n",
    "df = sf_df.to_pandas()"
   ]
  },
  {
   "cell_type": "code",
   "execution_count": 50,
   "id": "f95b46a3-0347-4c15-8477-8d3b5cf2573e",
   "metadata": {},
   "outputs": [],
   "source": [
    "tickers = [\"MTFS\", \"ALPA\", \"OOGGL\", \"TCA\", \"ABC\"]\n",
    "config[\"TICKERS\"] = tickers"
   ]
  },
  {
   "cell_type": "code",
   "execution_count": 51,
   "id": "39bbe5f0-d186-4f6e-9b2d-cfbfebe807fe",
   "metadata": {},
   "outputs": [
    {
     "data": {
      "text/plain": [
       "Index(['STOCK', 'CLOSE', 'ADJ_CLOSE'], dtype='object')"
      ]
     },
     "execution_count": 51,
     "metadata": {},
     "output_type": "execute_result"
    }
   ],
   "source": [
    "df.columns"
   ]
  },
  {
   "cell_type": "code",
   "execution_count": 53,
   "id": "0584c5c9-f9a4-4cc6-99f7-b3ea634cc585",
   "metadata": {},
   "outputs": [],
   "source": [
    "def load_data(df, tickers: list):\n",
    "    stock_data = {}\n",
    "    min_len = []\n",
    "    for ticker in tickers:\n",
    "        data = df[df[\"STOCK\"] == ticker]\n",
    "        stock_data[ticker] = list(data[\"ADJ_CLOSE\"])\n",
    "        min_len.append(len(data))\n",
    "    last_len = min(min_len)\n",
    "    for ticker in tickers:\n",
    "        stock_data[ticker] = stock_data[ticker][:last_len]\n",
    "    \n",
    "    stock_data = pd.DataFrame(stock_data)\n",
    "    return stock_data\n",
    "\n",
    "# load_data(df, config[\"TICKERS\"]).head()"
   ]
  },
  {
   "cell_type": "code",
   "execution_count": 55,
   "id": "f5506695-b919-46af-94fc-bae46d6de16f",
   "metadata": {},
   "outputs": [
    {
     "name": "stdout",
     "output_type": "stream",
     "text": [
      "\n",
      "Using Equal Weights:\n",
      "  Ticker  Weight\n",
      "0   MTFS  0.2000\n",
      "1   ALPA  0.2000\n",
      "2  OOGGL  0.2000\n",
      "3    TCA  0.2000\n",
      "4    ABC  0.2000\n",
      "{'Initial Investment': '$100,000.00', 'Expected Final Portfolio Value': '$122,779.63', 'Median Final Portfolio Value': '$119,699.55', 'Standard Deviation of Final Portfolio Value': '$26,820.82', 'Value at Risk (VaR 95%)': '$15,814.51', 'Conditional Value at Risk (CVaR 95%)': '$22,566.18', 'Probability of Loss': '19.99%', 'Sharpe Ratio': '0.8493'}\n"
     ]
    }
   ],
   "source": [
    "def main(config=config):\n",
    "    \n",
    "    # Extract configuration parameters\n",
    "    tickers = config.get('TICKERS', [\"MTFS\", \"ALPA\", \"OOGGL\"])\n",
    "    start_date = config.get('START_DATE')\n",
    "    end_date = config.get('END_DATE')\n",
    "    initial_investment = config.get('INITIAL_INVESTMENT', 1000)\n",
    "    num_simulations = config.get('NUM_SIMULATIONS', 10000)\n",
    "    time_horizon = config.get('TIME_HORIZON', 252)\n",
    "    risk_free_rate = config.get('RISK_FREE_RATE', 0.0)\n",
    "    custom_weights = config.get('WEIGHTS')\n",
    "    optimization_config = config.get('optimization', {})\n",
    "    optimize = optimization_config.get('OPTIMIZE', False)\n",
    "    balanced = optimization_config.get('BALANCED', True)\n",
    "    # Load data\n",
    "    stock_data = load_data(df, tickers)\n",
    "    \n",
    "    # Create portfolio\n",
    "    portfolio = Portfolio(stock_data)\n",
    "    portfolio.calculate_returns()\n",
    "    \n",
    "    # Annualize returns and covariance\n",
    "    expected_returns = portfolio.returns.mean() * 252\n",
    "    covariance_matrix = portfolio.returns.cov() * 252\n",
    "    \n",
    "    # Determine weights\n",
    "    if optimize:\n",
    "        optimizer = PortfolioOptimizer(\n",
    "            expected_returns,\n",
    "            covariance_matrix,\n",
    "            risk_free_rate=risk_free_rate\n",
    "        )\n",
    "        if balanced:\n",
    "            optimal_weights = optimizer.minimize_volatility(target_return=expected_returns.mean())\n",
    "            print(\"\\nOptimal Balanced Portfolio Weights:\")\n",
    "        else:\n",
    "            optimal_weights = optimizer.maximize_sharpe_ratio()\n",
    "            print(\"\\nOptimal Portfolio Weights to Maximize Sharpe Ratio:\")\n",
    "        display_optimal_weights(stock_data.columns, optimal_weights)\n",
    "        weights = optimal_weights\n",
    "    elif custom_weights:\n",
    "        weights = custom_weights\n",
    "        print(\"\\nUsing Custom Weights:\")\n",
    "        display_optimal_weights(stock_data.columns, weights)\n",
    "    else:\n",
    "        num_assets = len(expected_returns)\n",
    "        weights = [1.0 / num_assets] * num_assets\n",
    "        print(\"\\nUsing Equal Weights:\")\n",
    "        display_optimal_weights(stock_data.columns, weights)\n",
    "    \n",
    "    # Perform Monte Carlo Simulation\n",
    "    simulation = MonteCarloSimulation(portfolio.returns, initial_investment, weights)\n",
    "    all_cumulative_returns, final_portfolio_values = simulation.run_simulation(\n",
    "        num_simulations, time_horizon\n",
    "    )\n",
    "    \n",
    "    # Analyze Results\n",
    "    final_insights = get_simulation_insights(final_portfolio_values, initial_investment)\n",
    "    print(final_insights)\n",
    "    \n",
    "    # Plot results\n",
    "    # plot_simulation_results(all_cumulative_returns, final_portfolio_values)\n",
    "\n",
    "\n",
    "\n",
    "main()"
   ]
  }
 ],
 "metadata": {
  "kernelspec": {
   "display_name": "Python 3 (ipykernel)",
   "language": "python",
   "name": "python3"
  },
  "language_info": {
   "codemirror_mode": {
    "name": "ipython",
    "version": 3
   },
   "file_extension": ".py",
   "mimetype": "text/x-python",
   "name": "python",
   "nbconvert_exporter": "python",
   "pygments_lexer": "ipython3",
   "version": "3.9.19"
  }
 },
 "nbformat": 4,
 "nbformat_minor": 5
}
