{
 "cells": [
  {
   "cell_type": "code",
   "execution_count": 64,
   "id": "12918966-bbfe-491a-92c6-32584ef4d376",
   "metadata": {},
   "outputs": [],
   "source": [
    "import json\n",
    "from portfolio import Portfolio\n",
    "from optimizer import PortfolioOptimizer\n",
    "from simulations import MonteCarloSimulation\n",
    "from utils import (\n",
    "    get_simulation_insights,\n",
    "    display_optimal_weights\n",
    ")\n",
    "\n",
    "#Snowpark lib\n",
    "from snowflake.snowpark import Session\n",
    "import pandas as pd\n",
    "from fosforml.model_manager.snowflakesession import get_session\n",
    "my_session = get_session()\n",
    "\n",
    "config = {\n",
    "    \"TICKERS\" : [], \"START_DATE\" : '2020-01-01', \"END_DATE\" : '2023-01-01', \"INITIAL_INVESTMENT\" : 100000,\n",
    "    \"NUM_SIMULATIONS\" : 500, \"TIME_HORIZON\" : 252, \"RISK_FREE_RATE\" : 0.02, \"WEIGHTS\" : None, \"OPTIMIZE\" : True, \"BALANCED\" : False\n",
    "}"
   ]
  },
  {
   "cell_type": "code",
   "execution_count": 65,
   "id": "efc4cc1f-0c95-4561-83a0-2b277c945a0b",
   "metadata": {},
   "outputs": [],
   "source": [
    "table_name = 'STOCKS_DATA'\n",
    "sf_df = my_session.sql(\"select * from {}\".format(table_name))\n",
    "df = sf_df.to_pandas()"
   ]
  },
  {
   "cell_type": "code",
   "execution_count": 66,
   "id": "f95b46a3-0347-4c15-8477-8d3b5cf2573e",
   "metadata": {},
   "outputs": [],
   "source": [
    "tickers = [\"MTFS\", \"ALPA\", \"TCA\", \"ABC\"]\n",
    "config[\"TICKERS\"] = tickers"
   ]
  },
  {
   "cell_type": "code",
   "execution_count": 67,
   "id": "0584c5c9-f9a4-4cc6-99f7-b3ea634cc585",
   "metadata": {},
   "outputs": [],
   "source": [
    "def load_data(df, tickers: list):\n",
    "    stock_data = {}\n",
    "    min_len = []\n",
    "    for ticker in tickers:\n",
    "        data = df[df[\"STOCK\"] == ticker]\n",
    "        stock_data[ticker] = list(data[\"ADJ_CLOSE\"])\n",
    "        min_len.append(len(data))\n",
    "    last_len = min(min_len)\n",
    "    for ticker in tickers:\n",
    "        stock_data[ticker] = stock_data[ticker][:last_len]\n",
    "    \n",
    "    stock_data = pd.DataFrame(stock_data)\n",
    "    return stock_data\n",
    "\n",
    "# load_data(df, config[\"TICKERS\"]).head()"
   ]
  },
  {
   "cell_type": "code",
   "execution_count": 68,
   "id": "f5506695-b919-46af-94fc-bae46d6de16f",
   "metadata": {},
   "outputs": [
    {
     "name": "stdout",
     "output_type": "stream",
     "text": [
      "\n",
      "Optimal Portfolio Weights to Maximize Sharpe Ratio:\n",
      "  Ticker  Weight\n",
      "0   MTFS  0.3105\n",
      "1   ALPA  0.5265\n",
      "2    TCA  0.1630\n",
      "3    ABC  0.0000\n",
      "[0.3105002  0.52651881 0.16298099 0.        ]\n",
      "**************************\n",
      "Initial Investment : $100,000.00\n",
      "Expected Final Portfolio Value : $129,425.07\n",
      "Median Final Portfolio Value : $125,621.73\n",
      "Standard Deviation of Final Portfolio Value : $30,231.12\n",
      "Value at Risk (VaR 95%) : $13,393.04\n",
      "Conditional Value at Risk (CVaR 95%) : $22,657.12\n",
      "Probability of Loss : 15.60%\n",
      "Sharpe Ratio : 0.9733\n"
     ]
    }
   ],
   "source": [
    "def main(config=config):\n",
    "    \n",
    "    # Extract configuration parameters\n",
    "    tickers = config.get('TICKERS', [\"MTFS\", \"ALPA\", \"OOGGL\"])\n",
    "    start_date = config.get('START_DATE')\n",
    "    end_date = config.get('END_DATE')\n",
    "    initial_investment = config.get('INITIAL_INVESTMENT', 1000)\n",
    "    num_simulations = config.get('NUM_SIMULATIONS', 10000)\n",
    "    time_horizon = config.get('TIME_HORIZON', 252)\n",
    "    risk_free_rate = config.get('RISK_FREE_RATE', 0.0)\n",
    "    custom_weights = config.get('WEIGHTS')\n",
    "    optimization_config = config.get('optimization', {})\n",
    "    optimize = optimization_config.get('OPTIMIZE', True)\n",
    "    balanced = optimization_config.get('BALANCED', False)\n",
    "    # Load data\n",
    "    stock_data = load_data(df, tickers)\n",
    "    \n",
    "    # Create portfolio\n",
    "    portfolio = Portfolio(stock_data)\n",
    "    portfolio.calculate_returns()\n",
    "    \n",
    "    # Annualize returns and covariance\n",
    "    expected_returns = portfolio.returns.mean() * 252\n",
    "    covariance_matrix = portfolio.returns.cov() * 252\n",
    "\n",
    "    # return covariance_matrix, expected_returns\n",
    "    \n",
    "    # Determine weights\n",
    "    if optimize:\n",
    "        optimizer = PortfolioOptimizer(\n",
    "            expected_returns,\n",
    "            covariance_matrix,\n",
    "            risk_free_rate=risk_free_rate\n",
    "        )\n",
    "        if balanced:\n",
    "            optimal_weights = optimizer.minimize_volatility(target_return=expected_returns.mean())\n",
    "            print(\"\\nOptimal Balanced Portfolio Weights:\")\n",
    "        else:\n",
    "            optimal_weights = optimizer.maximize_sharpe_ratio()\n",
    "            print(\"\\nOptimal Portfolio Weights to Maximize Sharpe Ratio:\")\n",
    "        display_optimal_weights(stock_data.columns, optimal_weights)\n",
    "        weights = optimal_weights\n",
    "    elif custom_weights:\n",
    "        weights = custom_weights\n",
    "        print(\"\\nUsing Custom Weights:\")\n",
    "        display_optimal_weights(stock_data.columns, weights)\n",
    "    else:\n",
    "        num_assets = len(expected_returns)\n",
    "        weights = [1.0 / num_assets] * num_assets\n",
    "        print(\"\\nUsing Equal Weights:\")\n",
    "        display_optimal_weights(stock_data.columns, weights)\n",
    "\n",
    "    print(weights)\n",
    "    # Perform Monte Carlo Simulation\n",
    "    simulation = MonteCarloSimulation(portfolio.returns, initial_investment, weights)\n",
    "    all_cumulative_returns, final_portfolio_values = simulation.run_simulation(\n",
    "        num_simulations, time_horizon\n",
    "    )\n",
    "    \n",
    "    # Analyze Results\n",
    "    final_insights = get_simulation_insights(final_portfolio_values, initial_investment)\n",
    "    print(\"**************************\")\n",
    "    for k, v in final_insights.items():\n",
    "        print(k,\":\", v)\n",
    "    # print(final_insights)\n",
    "    return all_cumulative_returns, final_portfolio_values\n",
    "    \n",
    "    # Plot results\n",
    "    # plot_simulation_results(all_cumulative_returns, final_portfolio_values)\n",
    "\n",
    "\n",
    "\n",
    "a, b = main()"
   ]
  },
  {
   "cell_type": "code",
   "execution_count": 69,
   "id": "30d379f2-39c9-46cb-b6d2-a18d9fc4e44a",
   "metadata": {},
   "outputs": [],
   "source": [
    "def original(config):\n",
    "    tickers = config.get('TICKERS', [\"MTFS\", \"ALPA\", \"OOGGL\"])\n",
    "    start_date = config.get('START_DATE')\n",
    "    end_date = config.get('END_DATE')\n",
    "    initial_investment = config.get('INITIAL_INVESTMENT', 1000)\n",
    "    num_simulations = config.get('NUM_SIMULATIONS', 10000)\n",
    "    time_horizon = config.get('TIME_HORIZON', 252)\n",
    "    risk_free_rate = config.get('RISK_FREE_RATE', 0.0)\n",
    "    custom_weights = config.get('WEIGHTS')\n",
    "    optimization_config = config.get('optimization', {})\n",
    "    optimize = optimization_config.get('OPTIMIZE', True)\n",
    "    balanced = optimization_config.get('BALANCED', False)\n",
    "    # Load data\n",
    "    stock_data = load_data(df, tickers)\n",
    "\n",
    "# Create portfolio\n",
    "    portfolio = Portfolio(stock_data)\n",
    "    portfolio.calculate_returns()\n",
    "    weights = [0.25, 0.25, 0.25, 0.25]\n",
    "    simulation = MonteCarloSimulation(portfolio.returns, initial_investment, weights)\n",
    "    all_cumulative_returns, final_portfolio_values = simulation.run_simulation(\n",
    "        num_simulations, time_horizon\n",
    "    )\n",
    "    \n",
    "    # Analyze Results\n",
    "    final_insights = get_simulation_insights(final_portfolio_values, initial_investment)\n",
    "\n",
    "    return final_insights\n",
    "# print(\"**************************\")\n",
    "# for k, v in final_insights.items():\n",
    "    print(k,\":\", v)\n",
    "# print(final_insights)"
   ]
  },
  {
   "cell_type": "code",
   "execution_count": 76,
   "id": "6f08893a-58e3-4268-9c0e-7007066d3fc6",
   "metadata": {},
   "outputs": [],
   "source": [
    "table_name = 'MEMBER_MASTER'\n",
    "users_df = my_session.sql(\"select * from {}\".format(table_name))\n",
    "users = users_df.to_pandas()\n",
    "users = users.sample(100000)"
   ]
  },
  {
   "cell_type": "code",
   "execution_count": 77,
   "id": "e0011260-70c2-4c71-82e7-a2c7458cfab0",
   "metadata": {},
   "outputs": [],
   "source": [
    "stocks = list(df[\"STOCK\"].unique())\n",
    "\n",
    "import random\n",
    "portfolio_stocks = [2,3,3,4,4,5,5,6,6,7,8,9]\n",
    "\n",
    "portfolio = [random.sample(stocks, random.choice(portfolio_stocks))for i in range(users.shape[0])]"
   ]
  },
  {
   "cell_type": "code",
   "execution_count": 78,
   "id": "bc43d2c0-9ca6-4f02-8842-b06c4ee63a17",
   "metadata": {},
   "outputs": [],
   "source": [
    "users[\"PORTFOLIO\"] = portfolio"
   ]
  },
  {
   "cell_type": "code",
   "execution_count": 79,
   "id": "f6ae2a42-97de-44df-9d50-4a47da0bf757",
   "metadata": {},
   "outputs": [],
   "source": [
    "users[\"INTITIAL_INVVESTMENT\"] = users[\"MEMBER_ID\"].apply(lambda x: random.choice([1000, 10000, 5000, 50000, 1000000, 80000, 90000, 11000, 45000,\n",
    "                                                                                  55000, 1000000, 40000, 88000, 97000, 49000, 69000]))"
   ]
  },
  {
   "cell_type": "code",
   "execution_count": null,
   "id": "956d3168-b56e-4960-9f0e-f765380843d0",
   "metadata": {},
   "outputs": [
    {
     "name": "stderr",
     "output_type": "stream",
     "text": [
      " 16%|█▋        | 16498/100000 [28:59<2:27:26,  9.44it/s]"
     ]
    }
   ],
   "source": [
    "from tqdm import tqdm\n",
    "tqdm.pandas()\n",
    "\n",
    "def modify_config(tickers, initial):\n",
    "    config[\"TICKER\"] = tickers\n",
    "    config[\"INITIAL_INVESTMENT\"] = initial\n",
    "    result = original(config)\n",
    "    return result\n",
    "\n",
    "users[\"ORG_INVST\"] = users[[\"PORTFOLIO\",\"INTITIAL_INVVESTMENT\"]].progress_apply(lambda x: modify_config(x[0], x[1]), axis=1)"
   ]
  }
 ],
 "metadata": {
  "kernelspec": {
   "display_name": "Python 3 (ipykernel)",
   "language": "python",
   "name": "python3"
  },
  "language_info": {
   "codemirror_mode": {
    "name": "ipython",
    "version": 3
   },
   "file_extension": ".py",
   "mimetype": "text/x-python",
   "name": "python",
   "nbconvert_exporter": "python",
   "pygments_lexer": "ipython3",
   "version": "3.9.19"
  }
 },
 "nbformat": 4,
 "nbformat_minor": 5
}
